{
 "cells": [
  {
   "cell_type": "code",
   "execution_count": null,
   "metadata": {
    "id": "XCpUuZeKTFjq"
   },
   "outputs": [],
   "source": [
    "from mtcnn.mtcnn import MTCNN\n",
    "from keras_facenet import FaceNet\n",
    "import numpy as np\n",
    "import pandas as pd\n",
    "import os\n",
    "import cv2\n",
    "import pickle\n",
    "from flask import Flask, request, jsonify, render_template\n",
    "from werkzeug.wrappers import  Request,Response\n",
    "from werkzeug.serving import run_simple\n",
    "import base64"
   ]
  },
  {
   "cell_type": "code",
   "execution_count": 2,
   "metadata": {
    "colab": {
     "base_uri": "https://localhost:8080/"
    },
    "execution": {
     "iopub.execute_input": "2024-09-17T16:54:35.238220Z",
     "iopub.status.busy": "2024-09-17T16:54:35.238220Z",
     "iopub.status.idle": "2024-09-17T16:56:18.610143Z",
     "shell.execute_reply": "2024-09-17T16:56:18.609136Z",
     "shell.execute_reply.started": "2024-09-17T16:54:35.238220Z"
    },
    "id": "88S7bg3WTGMJ",
    "outputId": "a2f8b73f-ef46-406d-de43-93af2ec672b2"
   },
   "outputs": [
    {
     "name": "stdout",
     "output_type": "stream",
     "text": [
      "WARNING:tensorflow:From C:\\Users\\IAmAlight\\anaconda3\\envs\\Ai_7\\Lib\\site-packages\\keras\\src\\backend\\tensorflow\\core.py:192: The name tf.placeholder is deprecated. Please use tf.compat.v1.placeholder instead.\n",
      "\n"
     ]
    },
    {
     "name": "stderr",
     "output_type": "stream",
     "text": [
      "C:\\Users\\IAmAlight\\anaconda3\\envs\\Ai_7\\Lib\\site-packages\\sklearn\\base.py:376: InconsistentVersionWarning: Trying to unpickle estimator SVC from version 1.2.2 when using version 1.5.1. This might lead to breaking code or invalid results. Use at your own risk. For more info please refer to:\n",
      "https://scikit-learn.org/stable/model_persistence.html#security-maintainability-limitations\n",
      "  warnings.warn(\n"
     ]
    }
   ],
   "source": [
    "detector = MTCNN()\n",
    "embedder = FaceNet()\n",
    "with open('svm_face_recognition_model.pkl', 'rb') as f:\n",
    "    model = pickle.load(f)\n",
    "class_names = ['Angelina Jolie', 'Brad Pitt', 'Denzel Washington', 'Hugh Jackman',\n",
    "       'Jennifer Lawrence', 'Johnny Depp', 'Kate Winslet',\n",
    "       'Leonardo DiCaprio', 'Megan Fox', 'Natalie Portman',\n",
    "       'Nicole Kidman', 'Robert Downey Jr', 'Sandra Bullock',\n",
    "       'Scarlett Johansson', 'Tom Cruise', 'Tom Hanks', 'Will Smith']"
   ]
  },
  {
   "cell_type": "code",
   "execution_count": 3,
   "metadata": {
    "execution": {
     "iopub.execute_input": "2024-09-17T16:56:18.634520Z",
     "iopub.status.busy": "2024-09-17T16:56:18.633522Z",
     "iopub.status.idle": "2024-09-17T16:56:18.642080Z",
     "shell.execute_reply": "2024-09-17T16:56:18.641066Z",
     "shell.execute_reply.started": "2024-09-17T16:56:18.634520Z"
    },
    "id": "UocitDncTGpo"
   },
   "outputs": [],
   "source": [
    "def get_face(img,box):\n",
    "    x,y,w,h = box\n",
    "    p = (x+w,y+h)\n",
    "    face = img[y:y+h,x:x+w]\n",
    "    face = cv2.resize(face,(160,160))\n",
    "    return face,x,y,p"
   ]
  },
  {
   "cell_type": "code",
   "execution_count": 16,
   "metadata": {
    "execution": {
     "iopub.execute_input": "2024-09-17T17:02:05.273780Z",
     "iopub.status.busy": "2024-09-17T17:02:05.273780Z",
     "iopub.status.idle": "2024-09-17T17:02:05.279071Z",
     "shell.execute_reply": "2024-09-17T17:02:05.278061Z",
     "shell.execute_reply.started": "2024-09-17T17:02:05.273780Z"
    },
    "id": "Fk-2o_eBTGvo"
   },
   "outputs": [],
   "source": [
    "def get_embedding(face):\n",
    "    face = cv2.resize(face,(160,160))\n",
    "    face = face.astype('float32')\n",
    "    face = np.expand_dims(face,axis=0)\n",
    "    embedding = embedder.embeddings(face)\n",
    "    return embedding[0]"
   ]
  },
  {
   "cell_type": "code",
   "execution_count": 39,
   "metadata": {
    "execution": {
     "iopub.execute_input": "2024-09-17T18:03:08.889932Z",
     "iopub.status.busy": "2024-09-17T18:03:08.888935Z",
     "iopub.status.idle": "2024-09-17T18:03:08.898532Z",
     "shell.execute_reply": "2024-09-17T18:03:08.897514Z",
     "shell.execute_reply.started": "2024-09-17T18:03:08.889932Z"
    },
    "id": "xyxPFJBfTG2L"
   },
   "outputs": [],
   "source": [
    "def detect_recognize_faces(img):\n",
    "    results = detector.detect_faces(img)\n",
    "    img = cv2.cvtColor(img,cv2.COLOR_BGR2RGB)\n",
    "    faces = []\n",
    "    boxes = []\n",
    "    threshhold = 0.7\n",
    "    for result in results:\n",
    "        face,x,y,p = get_face(img,result['box'])\n",
    "        embedding = get_embedding(face)\n",
    "        faces.append(embedding)\n",
    "        boxes.append((x,y,p))\n",
    "\n",
    "    faces = np.array(faces)\n",
    "    preds = model.predict_proba(faces)\n",
    "    name_indices = np.argmax(preds,axis = 1)\n",
    "    probas = preds[np.arange(len(name_indices)),name_indices]\n",
    "\n",
    "    for i,(x,y,p) in enumerate(boxes):\n",
    "        proba = probas[i]\n",
    "        if proba>threshhold:\n",
    "            name = class_names[name_indices[i]]\n",
    "        else:\n",
    "            name = \"Unknown\"\n",
    "\n",
    "        cv2.rectangle(img,(x,y),p,[0,255,0],thickness=5)\n",
    "        cv2.putText(img,f\"{name}:{proba:.2f}\",(x,y-10),cv2.FONT_HERSHEY_SIMPLEX,1.9,color = [0,255,0],thickness=4)\n",
    "    return img\n"
   ]
  },
  {
   "cell_type": "code",
   "execution_count": 40,
   "metadata": {
    "execution": {
     "iopub.execute_input": "2024-09-17T18:03:15.079898Z",
     "iopub.status.busy": "2024-09-17T18:03:15.079898Z",
     "iopub.status.idle": "2024-09-17T18:03:15.088088Z",
     "shell.execute_reply": "2024-09-17T18:03:15.087078Z",
     "shell.execute_reply.started": "2024-09-17T18:03:15.079898Z"
    },
    "id": "FP2CzUn8UTQ4"
   },
   "outputs": [],
   "source": [
    "app = Flask(__name__)\n",
    "\n",
    "@app.route('/',methods = ['GET','POST'])\n",
    "def index():\n",
    "    if request.method == 'POST':\n",
    "        if 'image' not in request.files:\n",
    "            return render_template('index.html',error = 'No image uploaded')\n",
    "\n",
    "        file = request.files['image']\n",
    "        img = cv2.imdecode(np.frombuffer(file.read(), np.uint8), cv2.IMREAD_UNCHANGED)\n",
    "        if img is None:\n",
    "            return jsonify({'error': 'Invalid image'}), 400\n",
    "            \n",
    "        img = cv2.cvtColor(img,cv2.COLOR_BGR2RGB)\n",
    "        result_img = detect_recognize_faces(img)\n",
    "        result, buffer = cv2.imencode('.jpg', result_img)\n",
    "        if result:\n",
    "          img_str = base64.b64encode(buffer).decode('utf-8')\n",
    "          return render_template('index.html',image=f'data:image/jpeg;base64,{img_str}')\n",
    "        else:\n",
    "          return jsonify({'error': 'Failed to encode image'}), 500\n",
    "    return render_template('index.html')"
   ]
  },
  {
   "cell_type": "code",
   "execution_count": null,
   "metadata": {
    "colab": {
     "base_uri": "https://localhost:8080/"
    },
    "execution": {
     "iopub.execute_input": "2024-09-17T18:06:46.584002Z",
     "iopub.status.busy": "2024-09-17T18:06:46.582492Z"
    },
    "id": "x3CeQidyUTco",
    "outputId": "fde31555-1faf-42f9-b041-195bd7acb4cb"
   },
   "outputs": [
    {
     "name": "stderr",
     "output_type": "stream",
     "text": [
      "WARNING: This is a development server. Do not use it in a production deployment. Use a production WSGI server instead.\n",
      " * Running on http://localhost:8000\n",
      "Press CTRL+C to quit\n",
      "127.0.0.1 - - [17/Sep/2024 21:06:47] \"GET / HTTP/1.1\" 200 -\n",
      "127.0.0.1 - - [17/Sep/2024 21:06:50] \"GET / HTTP/1.1\" 200 -\n",
      "127.0.0.1 - - [17/Sep/2024 21:06:59] \"GET / HTTP/1.1\" 200 -\n"
     ]
    }
   ],
   "source": [
    "run_simple('localhost',8000,app)"
   ]
  },
  {
   "cell_type": "code",
   "execution_count": null,
   "metadata": {},
   "outputs": [],
   "source": []
  }
 ],
 "metadata": {
  "colab": {
   "provenance": []
  },
  "kernelspec": {
   "display_name": "Python 3 (ipykernel)",
   "language": "python",
   "name": "python3"
  },
  "language_info": {
   "codemirror_mode": {
    "name": "ipython",
    "version": 3
   },
   "file_extension": ".py",
   "mimetype": "text/x-python",
   "name": "python",
   "nbconvert_exporter": "python",
   "pygments_lexer": "ipython3",
   "version": "3.12.4"
  }
 },
 "nbformat": 4,
 "nbformat_minor": 4
}
